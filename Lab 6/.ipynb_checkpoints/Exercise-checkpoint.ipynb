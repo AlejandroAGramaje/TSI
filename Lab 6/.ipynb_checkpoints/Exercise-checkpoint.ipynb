{
 "cells": [
  {
   "cell_type": "code",
   "execution_count": null,
   "id": "2571f747",
   "metadata": {
    "vscode": {
     "languageId": "plaintext"
    }
   },
   "outputs": [],
   "source": [
    "!pip install pyserial\n"
   ]
  },
  {
   "cell_type": "markdown",
   "id": "d2634612",
   "metadata": {},
   "source": [
    "Configuracion del puerto en serie"
   ]
  },
  {
   "cell_type": "code",
   "execution_count": null,
   "id": "8bcf9232",
   "metadata": {
    "vscode": {
     "languageId": "plaintext"
    }
   },
   "outputs": [],
   "source": [
    "import serial, time\n",
    "import numpy as np\n",
    "import matplotlib.pyplot as plt\n",
    "\n",
    "serial_port = 'COM4'  # Cambia según tu puerto\n",
    "bauds = 250000\n"
   ]
  },
  {
   "cell_type": "markdown",
   "id": "166ad686",
   "metadata": {},
   "source": [
    "Definimos parametros"
   ]
  },
  {
   "cell_type": "code",
   "execution_count": null,
   "id": "5a4fc362",
   "metadata": {
    "vscode": {
     "languageId": "plaintext"
    }
   },
   "outputs": [],
   "source": [
    "label = 'letter_t'\n",
    "gestures_per_label = 10\n",
    "gesture_duration = 2.0\n",
    "sample_frequency = 100\n",
    "samples_number = int(sample_frequency * gesture_duration)\n"
   ]
  },
  {
   "cell_type": "markdown",
   "id": "92b8bfee",
   "metadata": {},
   "source": [
    "Capturamos una muestra"
   ]
  },
  {
   "cell_type": "code",
   "execution_count": null,
   "id": "deca59b3",
   "metadata": {
    "vscode": {
     "languageId": "plaintext"
    }
   },
   "outputs": [],
   "source": [
    "ser = serial.Serial(serial_port, bauds, timeout=1.0)\n",
    "time.sleep(2)\n",
    "ser.write('r'.encode('ascii'))\n",
    "print(ser.readline())\n",
    "ser.close()\n"
   ]
  },
  {
   "cell_type": "markdown",
   "id": "d90227c4",
   "metadata": {},
   "source": [
    "Definimos función"
   ]
  },
  {
   "cell_type": "code",
   "execution_count": null,
   "id": "5fe14e58",
   "metadata": {
    "vscode": {
     "languageId": "plaintext"
    }
   },
   "outputs": [],
   "source": [
    "def capture_gesture():\n",
    "    ser = serial.Serial(serial_port, bauds, timeout=1.0)\n",
    "    time.sleep(2)\n",
    "    gesture = []\n",
    "    for _ in range(samples_number):\n",
    "        ser.write('r'.encode('ascii'))\n",
    "        line = ser.readline().decode().strip()\n",
    "        if line:\n",
    "            values = line.split('\\t')\n",
    "            if len(values) == 3:\n",
    "                gesture.append([float(v) for v in values])\n",
    "        time.sleep(1 / sample_frequency)\n",
    "    ser.close()\n",
    "    return np.array(gesture)\n"
   ]
  },
  {
   "cell_type": "markdown",
   "id": "2fe6f814",
   "metadata": {},
   "source": [
    "Capturamos varios gestos"
   ]
  },
  {
   "cell_type": "code",
   "execution_count": null,
   "id": "4941bb20",
   "metadata": {
    "vscode": {
     "languageId": "plaintext"
    }
   },
   "outputs": [],
   "source": [
    "gestures = []\n",
    "for i in range(gestures_per_label):\n",
    "    input(f'Pulsa Enter para grabar gesto {i+1}')\n",
    "    g = capture_gesture()\n",
    "    gestures.append(g)\n"
   ]
  }
 ],
 "metadata": {
  "kernelspec": {
   "display_name": "Python 3 (ipykernel)",
   "language": "python",
   "name": "python3"
  },
  "language_info": {
   "codemirror_mode": {
    "name": "ipython",
    "version": 3
   },
   "file_extension": ".py",
   "mimetype": "text/x-python",
   "name": "python",
   "nbconvert_exporter": "python",
   "pygments_lexer": "ipython3",
   "version": "3.11.9"
  }
 },
 "nbformat": 4,
 "nbformat_minor": 5
}
