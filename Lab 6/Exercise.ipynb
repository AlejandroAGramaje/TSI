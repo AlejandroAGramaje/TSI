{
 "cells": [
  {
   "cell_type": "code",
   "execution_count": 1,
   "id": "2571f747",
   "metadata": {
    "scrolled": true
   },
   "outputs": [
    {
     "name": "stdout",
     "output_type": "stream",
     "text": [
      "Requirement already satisfied: matplotlib in c:\\clase\\tercero\\tsi\\practicas\\.venv\\lib\\site-packages (3.10.3)\n",
      "Requirement already satisfied: contourpy>=1.0.1 in c:\\clase\\tercero\\tsi\\practicas\\.venv\\lib\\site-packages (from matplotlib) (1.3.2)\n",
      "Requirement already satisfied: cycler>=0.10 in c:\\clase\\tercero\\tsi\\practicas\\.venv\\lib\\site-packages (from matplotlib) (0.12.1)\n",
      "Requirement already satisfied: fonttools>=4.22.0 in c:\\clase\\tercero\\tsi\\practicas\\.venv\\lib\\site-packages (from matplotlib) (4.58.0)\n",
      "Requirement already satisfied: kiwisolver>=1.3.1 in c:\\clase\\tercero\\tsi\\practicas\\.venv\\lib\\site-packages (from matplotlib) (1.4.8)\n",
      "Requirement already satisfied: numpy>=1.23 in c:\\clase\\tercero\\tsi\\practicas\\.venv\\lib\\site-packages (from matplotlib) (2.2.6)\n",
      "Requirement already satisfied: packaging>=20.0 in c:\\clase\\tercero\\tsi\\practicas\\.venv\\lib\\site-packages (from matplotlib) (25.0)\n",
      "Requirement already satisfied: pillow>=8 in c:\\clase\\tercero\\tsi\\practicas\\.venv\\lib\\site-packages (from matplotlib) (11.2.1)\n",
      "Requirement already satisfied: pyparsing>=2.3.1 in c:\\clase\\tercero\\tsi\\practicas\\.venv\\lib\\site-packages (from matplotlib) (3.2.3)\n",
      "Requirement already satisfied: python-dateutil>=2.7 in c:\\clase\\tercero\\tsi\\practicas\\.venv\\lib\\site-packages (from matplotlib) (2.9.0.post0)\n",
      "Requirement already satisfied: six>=1.5 in c:\\clase\\tercero\\tsi\\practicas\\.venv\\lib\\site-packages (from python-dateutil>=2.7->matplotlib) (1.17.0)\n"
     ]
    }
   ],
   "source": [
    "!pip install matplotlib"
   ]
  },
  {
   "cell_type": "markdown",
   "id": "d2634612",
   "metadata": {},
   "source": [
    "Configuracion del puerto en serie"
   ]
  },
  {
   "cell_type": "code",
   "execution_count": 2,
   "id": "8bcf9232",
   "metadata": {
    "scrolled": true
   },
   "outputs": [],
   "source": [
    "import serial, time\n",
    "import numpy as np\n",
    "import matplotlib.pyplot as plt\n",
    "\n",
    "serial_port = 'COM4'  # Cambia según tu puerto\n",
    "bauds = 250000\n"
   ]
  },
  {
   "cell_type": "markdown",
   "id": "166ad686",
   "metadata": {},
   "source": [
    "Definimos parametros"
   ]
  },
  {
   "cell_type": "code",
   "execution_count": 3,
   "id": "5a4fc362",
   "metadata": {},
   "outputs": [],
   "source": [
    "label = 'letter_t'\n",
    "gestures_per_label = 10\n",
    "gesture_duration = 2.0\n",
    "sample_frequency = 100\n",
    "samples_number = int(sample_frequency * gesture_duration)\n"
   ]
  },
  {
   "cell_type": "markdown",
   "id": "92b8bfee",
   "metadata": {},
   "source": [
    "Capturamos una muestra"
   ]
  },
  {
   "cell_type": "code",
   "execution_count": 4,
   "id": "deca59b3",
   "metadata": {},
   "outputs": [
    {
     "name": "stdout",
     "output_type": "stream",
     "text": [
      "b'0.02\\t0.25\\t0.94\\r\\n'\n"
     ]
    }
   ],
   "source": [
    "ser = serial.Serial(serial_port, bauds, timeout=1.0)\n",
    "time.sleep(2)\n",
    "ser.write('r'.encode('ascii'))\n",
    "print(ser.readline())\n",
    "ser.close()\n"
   ]
  },
  {
   "cell_type": "markdown",
   "id": "d90227c4",
   "metadata": {},
   "source": [
    "Definimos función"
   ]
  },
  {
   "cell_type": "code",
   "execution_count": 5,
   "id": "5fe14e58",
   "metadata": {},
   "outputs": [],
   "source": [
    "def capture_gesture():\n",
    "    ser = serial.Serial(serial_port, bauds, timeout=1.0)\n",
    "    time.sleep(2)\n",
    "    gesture = []\n",
    "    for _ in range(samples_number):\n",
    "        ser.write('r'.encode('ascii'))\n",
    "        line = ser.readline().decode().strip()\n",
    "        if line:\n",
    "            values = line.split('\\t')\n",
    "            if len(values) == 3:\n",
    "                gesture.append([float(v) for v in values])\n",
    "        time.sleep(1 / sample_frequency)\n",
    "    ser.close()\n",
    "    return np.array(gesture)\n"
   ]
  },
  {
   "cell_type": "markdown",
   "id": "2fe6f814",
   "metadata": {},
   "source": [
    "Capturamos varios gestos"
   ]
  },
  {
   "cell_type": "code",
   "execution_count": null,
   "id": "4941bb20",
   "metadata": {},
   "outputs": [],
   "source": [
    "gestures = []\n",
    "for i in range(gestures_per_label):\n",
    "    input(f'Pulsa Enter para grabar gesto {i+1}')\n",
    "    g = capture_gesture()\n",
    "    gestures.append(g)\n"
   ]
  },
  {
   "cell_type": "markdown",
   "id": "42226ca8",
   "metadata": {},
   "source": [
    "Filtro para suavizar señales"
   ]
  },
  {
   "cell_type": "code",
   "execution_count": null,
   "id": "a6ea6c8d",
   "metadata": {},
   "outputs": [],
   "source": [
    "from scipy.signal import butter, filtfilt\n",
    "\n",
    "def butter_lowpass_filter(data, cutoff=3, fs=100, order=6):\n",
    "    b, a = butter(order, cutoff / (0.5 * fs), btype='low')\n",
    "    return filtfilt(b, a, data, axis=0)\n",
    "\n",
    "gestures_filtered = [butter_lowpass_filter(g) for g in gestures]\n"
   ]
  },
  {
   "cell_type": "markdown",
   "id": "ca544d34",
   "metadata": {},
   "source": [
    "Extracción de características"
   ]
  },
  {
   "cell_type": "code",
   "execution_count": null,
   "id": "187244c5",
   "metadata": {},
   "outputs": [],
   "source": [
    "from scipy.fft import fft\n",
    "\n",
    "def get_spectrum(gesture):\n",
    "    return np.abs(fft(gesture, axis=0))\n",
    "\n",
    "spectrums = [get_spectrum(g) for g in gestures_filtered]\n"
   ]
  },
  {
   "cell_type": "markdown",
   "id": "c2dce85a",
   "metadata": {},
   "source": [
    "Exportacion CSV"
   ]
  },
  {
   "cell_type": "code",
   "execution_count": null,
   "id": "2afbaac3",
   "metadata": {},
   "outputs": [],
   "source": [
    "import pandas as pd\n",
    "\n",
    "for idx, g in enumerate(gestures_filtered):\n",
    "    df = pd.DataFrame(g, columns=['X', 'Y', 'Z'])\n",
    "    df.to_csv(f'gesture_{label}_{idx+1}.csv', index=False)\n"
   ]
  }
 ],
 "metadata": {
  "kernelspec": {
   "display_name": "Python 3 (ipykernel)",
   "language": "python",
   "name": "python3"
  },
  "language_info": {
   "codemirror_mode": {
    "name": "ipython",
    "version": 3
   },
   "file_extension": ".py",
   "mimetype": "text/x-python",
   "name": "python",
   "nbconvert_exporter": "python",
   "pygments_lexer": "ipython3",
   "version": "3.11.9"
  }
 },
 "nbformat": 4,
 "nbformat_minor": 5
}
